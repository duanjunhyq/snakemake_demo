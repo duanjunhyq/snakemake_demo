{
 "cells": [
  {
   "cell_type": "markdown",
   "id": "colored-bronze",
   "metadata": {},
   "source": [
    "# Introduction to Snakemake\n",
    "---"
   ]
  },
  {
   "cell_type": "markdown",
   "id": "civilian-genesis",
   "metadata": {},
   "source": [
    "<strong>Public Health Bioinormatics</strong> (Hsiao's lab) \n",
    "\n",
    "The materials are available on Github at https://github.com/Public-Health-Bioinformatics\n",
    "\n",
    "The Snakemake workflow management system is a tool to create reproducible and scalable data analyses. It orchestrates and keeps track of all the different steps of workflows that have been run. It becomes more and more popular because: \n",
    "\n",
    "- Snakemake is written using Python, but supports bash and R code as well.\n",
    "- It’s free, open-source, and conda-installable\n",
    "- Snakemake works cross-platform (Windows, MacOS, Linux) and cloud.\n",
    "\n",
    "Like other workflow management systems, Snakemake allows you to:\n",
    "\n",
    "- Keep a record of how your scripts are used and what their input dependencies are\n",
    "- Run multiple steps in sequence, parallelising where possible\n",
    "- Automatically detect if something changes and then reprocess data if needed\n"
   ]
  },
  {
   "cell_type": "markdown",
   "id": "collect-ridge",
   "metadata": {},
   "source": [
    "## 1. installation\n",
    "Snakemake is available on PyPi as well as through Bioconda and also from source code. However, the recommended way of installation is using conda. "
   ]
  },
  {
   "cell_type": "markdown",
   "id": "framed-david",
   "metadata": {},
   "source": [
    "### Install conda\n",
    "If you haven't had conda yet, you can install miniconda like this:"
   ]
  },
  {
   "cell_type": "code",
   "execution_count": null,
   "id": "armed-florist",
   "metadata": {},
   "outputs": [],
   "source": [
    "wget https://repo.anaconda.com/miniconda/Miniconda3-latest-Linux-x86_64.sh"
   ]
  },
  {
   "cell_type": "code",
   "execution_count": null,
   "id": "excessive-identifier",
   "metadata": {},
   "outputs": [],
   "source": [
    "sh Miniconda3-latest-Linux-x86_64.sh"
   ]
  },
  {
   "cell_type": "markdown",
   "id": "fluid-scope",
   "metadata": {},
   "source": [
    "### Install Snakemake through conda"
   ]
  },
  {
   "cell_type": "code",
   "execution_count": null,
   "id": "separate-logistics",
   "metadata": {},
   "outputs": [],
   "source": [
    "conda create -c bioconda -c conda-forge -n snakemake_demo snakemake-minimal -y"
   ]
  },
  {
   "cell_type": "markdown",
   "id": "assured-patient",
   "metadata": {},
   "source": [
    "Or you can mount your existing conda environment, then install like this:"
   ]
  },
  {
   "cell_type": "code",
   "execution_count": null,
   "id": "processed-register",
   "metadata": {},
   "outputs": [],
   "source": [
    "conda install snakemake-minimal"
   ]
  },
  {
   "cell_type": "markdown",
   "id": "illegal-promise",
   "metadata": {},
   "source": [
    "### Check if snakemake is working"
   ]
  },
  {
   "cell_type": "code",
   "execution_count": null,
   "id": "noted-ivory",
   "metadata": {},
   "outputs": [],
   "source": [
    "conda activate snakemake_demo"
   ]
  },
  {
   "cell_type": "code",
   "execution_count": null,
   "id": "royal-intervention",
   "metadata": {},
   "outputs": [],
   "source": [
    "snakemake --version"
   ]
  },
  {
   "cell_type": "markdown",
   "id": "going-research",
   "metadata": {},
   "source": [
    "### To deactivate an active environment:"
   ]
  },
  {
   "cell_type": "code",
   "execution_count": null,
   "id": "weighted-albuquerque",
   "metadata": {},
   "outputs": [],
   "source": [
    "conda deactivate"
   ]
  },
  {
   "cell_type": "markdown",
   "id": "supreme-boards",
   "metadata": {},
   "source": [
    "## 2. Basic rules of snakemake\n",
    "\n",
    "A Snakemake workflow defines a data analysis in terms of rules, that are listed in so-called Snakefiles. Most importantly, a rule can consist of a name, input files, output files, and a shell command to generate the output from the input.\n",
    "\n"
   ]
  },
  {
   "cell_type": "markdown",
   "id": "minimal-integration",
   "metadata": {},
   "source": [
    "### Example 1.1\n",
    "\n",
    "```\n",
    "rule copy:\n",
    "    input:\n",
    "        “A_input.txt”\n",
    "    output:\n",
    "        “A_copy.txt”\n",
    "    shell:\n",
    "        “cp {input} {output}”\n",
    "```"
   ]
  },
  {
   "cell_type": "markdown",
   "id": "further-carolina",
   "metadata": {},
   "source": [
    "Let's make a file named Snakefile and put the above rule into the file. Tips: I have prepared the files and you can download from GitHub directly.To run the examples, you need to make sure to have Snakemake installed on your system either locally or in a snakemake specific conda environment:\n"
   ]
  },
  {
   "cell_type": "code",
   "execution_count": 16,
   "id": "dressed-transfer",
   "metadata": {},
   "outputs": [
    {
     "name": "stdout",
     "output_type": "stream",
     "text": [
      "Cloning into 'github.com'...\n",
      "fatal: repository 'https://github.com/' not found\n",
      "(snakemake_demo) "
     ]
    },
    {
     "ename": "",
     "evalue": "1",
     "output_type": "error",
     "traceback": []
    }
   ],
   "source": [
    "git clone --recursive https://github.com/"
   ]
  },
  {
   "cell_type": "code",
   "execution_count": null,
   "id": "burning-roulette",
   "metadata": {},
   "outputs": [],
   "source": [
    "cd demo/example_1\n",
    "pwd"
   ]
  },
  {
   "cell_type": "code",
   "execution_count": null,
   "id": "weighted-terrace",
   "metadata": {},
   "outputs": [],
   "source": [
    "Let's do a dry run first."
   ]
  },
  {
   "cell_type": "code",
   "execution_count": null,
   "id": "popular-merchant",
   "metadata": {},
   "outputs": [],
   "source": [
    "snakemake -n -p"
   ]
  },
  {
   "cell_type": "code",
   "execution_count": null,
   "id": "through-intro",
   "metadata": {},
   "outputs": [],
   "source": [
    "Let's do a actual run"
   ]
  },
  {
   "cell_type": "code",
   "execution_count": null,
   "id": "residential-participation",
   "metadata": {},
   "outputs": [],
   "source": [
    "snakemake -j 1"
   ]
  },
  {
   "cell_type": "markdown",
   "id": "dependent-return",
   "metadata": {},
   "source": [
    "### Example 1.2\n"
   ]
  },
  {
   "cell_type": "code",
   "execution_count": null,
   "id": "military-child",
   "metadata": {},
   "outputs": [],
   "source": [
    "After we copy the file, how can we change all the letters to upcase?"
   ]
  },
  {
   "cell_type": "markdown",
   "id": "indonesian-minnesota",
   "metadata": {},
   "source": [
    "```\n",
    "rule copy:\n",
    "    input:\n",
    "        \"A_input.txt\"\n",
    "    output:\n",
    "        \"A_copy.txt\"\n",
    "    shell:\n",
    "        \"cp {input} {output}\"\n",
    "\n",
    "rule uppercase:\n",
    "    input:\n",
    "        \"A_copy.txt\"\n",
    "    output:\n",
    "        \"A_output.txt\"\n",
    "    shell:\n",
    "        \"dd if={input} of={output} conv=ucase\"\n",
    "\n",
    "```"
   ]
  },
  {
   "cell_type": "code",
   "execution_count": 20,
   "id": "champion-panel",
   "metadata": {},
   "outputs": [
    {
     "name": "stdout",
     "output_type": "stream",
     "text": [
      "\u001b[33mBuilding DAG of jobs...\u001b[0m\n",
      "\u001b[33mNothing to be done.\u001b[0m\n",
      "\u001b[33mComplete log: /home/dj/snakemake_demo/demo/example_1/.snakemake/log/2021-01-20T175530.945759.snakemake.log\u001b[0m\n",
      "(snakemake_demo) "
     ]
    },
    {
     "ename": "",
     "evalue": "1",
     "output_type": "error",
     "traceback": []
    }
   ],
   "source": [
    "snakemake -j 1 -s example_snakefile_1.1 A_output.txt"
   ]
  },
  {
   "cell_type": "markdown",
   "id": "supposed-induction",
   "metadata": {},
   "source": [
    "### Generate DAG graph\n",
    "Snakemake is able to create a directed acyclic graph (DAG) that represents a plan of rule executions. The nodes of the DAG are jobs, a directed edge means the dependency.\n",
    "\n",
    "First, make sure graphviz is installed. If not, you can install it like this:\n"
   ]
  },
  {
   "cell_type": "code",
   "execution_count": null,
   "id": "removed-belgium",
   "metadata": {},
   "outputs": [],
   "source": [
    "conda install graphviz -f"
   ]
  },
  {
   "cell_type": "markdown",
   "id": "unexpected-major",
   "metadata": {},
   "source": [
    "Then you can generate the DAG graph:"
   ]
  },
  {
   "cell_type": "code",
   "execution_count": null,
   "id": "artistic-middle",
   "metadata": {},
   "outputs": [],
   "source": [
    "snakemake -s example1.2_snakefile --dag  | dot -Tpng > dag.png"
   ]
  },
  {
   "cell_type": "code",
   "execution_count": null,
   "id": "pregnant-memphis",
   "metadata": {},
   "outputs": [],
   "source": []
  },
  {
   "cell_type": "markdown",
   "id": "plain-trick",
   "metadata": {},
   "source": [
    "### 3. More examples for data analysis"
   ]
  },
  {
   "cell_type": "markdown",
   "id": "overhead-solid",
   "metadata": {},
   "source": [
    "To run the example run the following from a working directory, and make sure to have Snakemake installed on your system either locally or in a snakemake specific conda environment:"
   ]
  },
  {
   "cell_type": "code",
   "execution_count": null,
   "id": "numeric-reservoir",
   "metadata": {},
   "outputs": [],
   "source": [
    "git clone --recursive https://github.com/"
   ]
  },
  {
   "cell_type": "code",
   "execution_count": null,
   "id": "tired-trash",
   "metadata": {},
   "outputs": [],
   "source": [
    "cd snakemake_demo"
   ]
  },
  {
   "cell_type": "code",
   "execution_count": null,
   "id": "broken-completion",
   "metadata": {},
   "outputs": [],
   "source": [
    "snakemake --use-conda"
   ]
  },
  {
   "cell_type": "markdown",
   "id": "indirect-joint",
   "metadata": {},
   "source": [
    "## Resources"
   ]
  },
  {
   "cell_type": "markdown",
   "id": "intellectual-soviet",
   "metadata": {},
   "source": [
    "### 1. Snakemake\n",
    "* Documentation: https://snakemake.readthedocs.io/\n",
    "*  Wrappers: https://snakemake-wrappers.readthedocs.io/\n",
    "* Snakemake-Workflows project: https://github.com/snakemake-workflows/docs\n",
    "*  Snakemake-Profiles project: https://github.com/snakemake-profiles/doc\n"
   ]
  },
  {
   "cell_type": "markdown",
   "id": "rural-supervision",
   "metadata": {},
   "source": [
    "### 2. Workflow\n",
    "* An incomplete list of 288 Computational Data Analysis Workflow Systems:\n",
    "https://github.com/common-workflow-language/common-workflow-language/wiki/Existing-Workflow-systems\n",
    "* A curated list of awesome pipeline toolkits:\n",
    "https://github.com/pditommaso/awesome-pipeline"
   ]
  },
  {
   "cell_type": "code",
   "execution_count": null,
   "id": "peripheral-agenda",
   "metadata": {},
   "outputs": [],
   "source": []
  }
 ],
 "metadata": {
  "kernelspec": {
   "display_name": "Bash",
   "language": "bash",
   "name": "bash"
  },
  "language_info": {
   "codemirror_mode": "shell",
   "file_extension": ".sh",
   "mimetype": "text/x-sh",
   "name": "bash"
  }
 },
 "nbformat": 4,
 "nbformat_minor": 5
}
