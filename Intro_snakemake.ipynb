{
 "cells": [
  {
   "cell_type": "markdown",
   "id": "loose-roulette",
   "metadata": {},
   "source": [
    "# Introduction to Snakemake\n",
    "---"
   ]
  },
  {
   "cell_type": "markdown",
   "id": "instrumental-species",
   "metadata": {},
   "source": [
    "<strong>Public Health Bioinormatics</strong> (Hsiao's lab) \n",
    "\n",
    "The materials are available on Github at https://github.com/Public-Health-Bioinformatics"
   ]
  },
  {
   "cell_type": "markdown",
   "id": "faced-electronics",
   "metadata": {},
   "source": [
    "## 1. installation\n",
    "Snakemake is available on PyPi as well as through Bioconda and also from source code. However, the recommended way of installation is using conda. "
   ]
  },
  {
   "cell_type": "markdown",
   "id": "legendary-session",
   "metadata": {},
   "source": [
    "### Install conda\n",
    "If you haven't had conda yet, you can install miniconda like this:"
   ]
  },
  {
   "cell_type": "code",
   "execution_count": null,
   "id": "guilty-geometry",
   "metadata": {},
   "outputs": [],
   "source": [
    "wget https://repo.anaconda.com/miniconda/Miniconda3-latest-Linux-x86_64.sh"
   ]
  },
  {
   "cell_type": "code",
   "execution_count": null,
   "id": "charming-engine",
   "metadata": {},
   "outputs": [],
   "source": [
    "sh Miniconda3-latest-Linux-x86_64.sh"
   ]
  },
  {
   "cell_type": "markdown",
   "id": "formed-prairie",
   "metadata": {},
   "source": [
    "### Install Snakemake through conda"
   ]
  },
  {
   "cell_type": "code",
   "execution_count": null,
   "id": "enhanced-ireland",
   "metadata": {},
   "outputs": [],
   "source": [
    "conda create -c bioconda -c conda-forge -n snakemake_demo snakemake-minimal -y"
   ]
  },
  {
   "cell_type": "markdown",
   "id": "freelance-playlist",
   "metadata": {},
   "source": [
    "Or you can mount your existing conda environment, then install like this:"
   ]
  },
  {
   "cell_type": "code",
   "execution_count": null,
   "id": "exposed-aruba",
   "metadata": {},
   "outputs": [],
   "source": [
    "conda install snakemake-minimal"
   ]
  },
  {
   "cell_type": "markdown",
   "id": "satellite-saying",
   "metadata": {},
   "source": [
    "### Check if snakemake is working"
   ]
  },
  {
   "cell_type": "code",
   "execution_count": 8,
   "id": "spectacular-comparison",
   "metadata": {},
   "outputs": [
    {
     "name": "stdout",
     "output_type": "stream",
     "text": [
      "(snakemake_demo) "
     ]
    },
    {
     "ename": "",
     "evalue": "1",
     "output_type": "error",
     "traceback": []
    }
   ],
   "source": [
    "conda activate snakemake_demo"
   ]
  },
  {
   "cell_type": "code",
   "execution_count": 11,
   "id": "residential-mattress",
   "metadata": {},
   "outputs": [
    {
     "name": "stdout",
     "output_type": "stream",
     "text": [
      "5.31.1\n",
      "(snakemake_demo) "
     ]
    },
    {
     "ename": "",
     "evalue": "1",
     "output_type": "error",
     "traceback": []
    }
   ],
   "source": [
    "snakemake --version"
   ]
  },
  {
   "cell_type": "markdown",
   "id": "hairy-phoenix",
   "metadata": {},
   "source": [
    "### To deactivate an active environment:"
   ]
  },
  {
   "cell_type": "code",
   "execution_count": null,
   "id": "minimal-medicaid",
   "metadata": {},
   "outputs": [],
   "source": [
    "conda deactivate"
   ]
  },
  {
   "cell_type": "markdown",
   "id": "productive-happening",
   "metadata": {},
   "source": [
    "## 2. Basic rules of snakemake"
   ]
  },
  {
   "cell_type": "markdown",
   "id": "junior-hawaii",
   "metadata": {},
   "source": [
    "```\n",
    "\n",
    "dfdfddfd\n",
    "\n",
    "```"
   ]
  },
  {
   "cell_type": "code",
   "execution_count": null,
   "id": "declared-calendar",
   "metadata": {},
   "outputs": [],
   "source": []
  },
  {
   "cell_type": "raw",
   "id": "continuous-disposition",
   "metadata": {},
   "source": []
  },
  {
   "cell_type": "markdown",
   "id": "copyrighted-ribbon",
   "metadata": {},
   "source": [
    "### 3. Examples"
   ]
  },
  {
   "cell_type": "markdown",
   "id": "binary-enforcement",
   "metadata": {},
   "source": [
    "To run the example run the following from a working directory, and make sure to have Snakemake installed on your system either locally or in a snakemake specific conda environment:"
   ]
  },
  {
   "cell_type": "code",
   "execution_count": 16,
   "id": "gorgeous-bathroom",
   "metadata": {},
   "outputs": [
    {
     "name": "stdout",
     "output_type": "stream",
     "text": [
      "Cloning into 'github.com'...\n",
      "fatal: repository 'https://github.com/' not found\n",
      "(snakemake_demo) bash: cd: snakemake_demo: No such file or directory\n",
      "(snakemake_demo) "
     ]
    },
    {
     "ename": "",
     "evalue": "1",
     "output_type": "error",
     "traceback": []
    }
   ],
   "source": [
    "git clone --recursive https://github.com/"
   ]
  },
  {
   "cell_type": "code",
   "execution_count": 17,
   "id": "vital-valve",
   "metadata": {},
   "outputs": [
    {
     "name": "stdout",
     "output_type": "stream",
     "text": [
      "bash: cd: snakemake_demo: No such file or directory\n",
      "(snakemake_demo) "
     ]
    },
    {
     "ename": "",
     "evalue": "1",
     "output_type": "error",
     "traceback": []
    }
   ],
   "source": [
    "cd snakemake_demo"
   ]
  },
  {
   "cell_type": "code",
   "execution_count": null,
   "id": "electric-database",
   "metadata": {},
   "outputs": [],
   "source": [
    "snakemake --use-conda"
   ]
  },
  {
   "cell_type": "markdown",
   "id": "vietnamese-adobe",
   "metadata": {},
   "source": [
    "## Resources"
   ]
  },
  {
   "cell_type": "markdown",
   "id": "natural-bullet",
   "metadata": {},
   "source": [
    "### 1. Snakemake\n",
    "* Documentation: https://snakemake.readthedocs.io/\n",
    "*  Wrappers: https://snakemake-wrappers.readthedocs.io/\n",
    "* Snakemake-Workflows project: https://github.com/snakemake-workflows/docs\n",
    "*  Snakemake-Profiles project: https://github.com/snakemake-profiles/doc\n"
   ]
  },
  {
   "cell_type": "markdown",
   "id": "educated-mozambique",
   "metadata": {},
   "source": [
    "### 2. Workflow\n",
    "* An incomplete list of 288 Computational Data Analysis Workflow Systems:\n",
    "https://github.com/common-workflow-language/common-workflow-language/wiki/Existing-Workflow-systems\n",
    "* A curated list of awesome pipeline toolkits:\n",
    "https://github.com/pditommaso/awesome-pipeline"
   ]
  },
  {
   "cell_type": "code",
   "execution_count": null,
   "id": "acknowledged-guess",
   "metadata": {},
   "outputs": [],
   "source": []
  }
 ],
 "metadata": {
  "kernelspec": {
   "display_name": "Bash",
   "language": "bash",
   "name": "bash"
  },
  "language_info": {
   "codemirror_mode": "shell",
   "file_extension": ".sh",
   "mimetype": "text/x-sh",
   "name": "bash"
  }
 },
 "nbformat": 4,
 "nbformat_minor": 5
}
